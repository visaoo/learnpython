{
 "cells": [
  {
   "cell_type": "markdown",
   "metadata": {},
   "source": [
    "# Variáveis em Python\n",
    "\n",
    "As variáveis em Python são espaços na memória do computador utilizados para armazenar dados. Elas são fundamentais para a programação, pois permitem que você guarde e manipule informações durante a execução do seu programa.\n",
    "\n",
    "## Como declarar variáveis em Python\n",
    "\n",
    "Em Python, a declaração de variáveis é simples e direta. Você não precisa especificar o tipo de dado explicitamente, pois Python é uma linguagem de tipagem dinâmica. Aqui estão alguns exemplos:\n",
    "\n",
    "1. Declaração básica:\n",
    "   ```python\n",
    "   nome = \"Maria\"\n",
    "   idade = 25\n",
    "   altura = 1.65\n",
    "   ```\n",
    "\n",
    "2. Múltiplas atribuições:\n",
    "   ```python\n",
    "   x, y, z = 1, 2, 3\n",
    "   ```\n",
    "\n",
    "3. Atribuição do mesmo valor a múltiplas variáveis:\n",
    "   ```python\n",
    "   a = b = c = 0\n",
    "   ```\n",
    "\n",
    "Lembre-se: em Python, você não precisa declarar o tipo da variável. O interpretador infere o tipo com base no valor atribuído.\n"
   ]
  },
  {
   "cell_type": "markdown",
   "metadata": {},
   "source": [
    "## Hora de testar\n",
    "\n",
    "Vamos criar algumas variáveis e testar o que aprendemos.\n",
    "```python\n",
    "1. Crie uma variável para armazenar o \"nome\"  de uma pessoa.\n",
    "2. Crie uma variável para armazenar a \"idade\" de uma pessoa.\n",
    "3. Crie uma variável para armazenar a \"altura\" de uma pessoa.\n",
    "4. Crie uma variável para armazenar o \"peso\" de uma pessoa.\n",
    "5. Crie uma variável para armazenar o \"gênero\" de uma pessoa.\n",
    "```\n"
   ]
  },
  {
   "cell_type": "code",
   "execution_count": null,
   "metadata": {},
   "outputs": [
    {
     "ename": "",
     "evalue": "",
     "output_type": "error",
     "traceback": [
      "\u001b[1;31mA execução de células com 'Python 3.7.9' requer o pacote ipykernel.\n",
      "\u001b[1;31mExecute o seguinte comando para instalar \"ipykernel\" no ambiente do Python. \n",
      "\u001b[1;31mComando: \"c:/Users/visao/AppData/Local/Programs/Python/Python37/python.exe -m pip install ipykernel -U --user --force-reinstall\""
     ]
    }
   ],
   "source": [
    "nome = \"Fillype\"\n",
    "idade = 21\n",
    "altura = 1.84\n",
    "peso = 58\n",
    "genero = \"Male\""
   ]
  },
  {
   "cell_type": "markdown",
   "metadata": {},
   "source": [
    "# Expressões Aritméticas em Python\n",
    "\n",
    "As expressões aritméticas em Python são combinações de valores numéricos, variáveis e operadores que resultam em um valor numérico. Elas são fundamentais para realizar cálculos e operações matemáticas em programação.\n",
    "\n",
    "## Operadores Aritméticos Básicos\n",
    "\n",
    "Python oferece os seguintes operadores aritméticos básicos:\n",
    "```python\n",
    "1. Adição (+): Soma dois valores\n",
    "2. Subtração (-): Subtrai o segundo valor do primeiro\n",
    "3. Multiplicação (*): Multiplica dois valores\n",
    "4. Divisão (/): Divide o primeiro valor pelo segundo (resultado em float)\n",
    "5. Divisão inteira (//): Divide e arredonda para baixo para o inteiro mais próximo\n",
    "6. Módulo (%): Retorna o resto da divisão\n",
    "7. Exponenciação (**): Eleva o primeiro valor à potência do segundo\n",
    "```\n",
    "\n",
    "## Exemplos de Expressões Aritméticas\n"
   ]
  },
  {
   "cell_type": "code",
   "execution_count": 1,
   "metadata": {},
   "outputs": [],
   "source": [
    "\n"
   ]
  },
  {
   "cell_type": "markdown",
   "metadata": {},
   "source": [
    "## 1. Atribuição de variáveis e soma simples\n",
    "#### Objetivo: Criar duas variáveis, calcular e armazenar sua soma.\n",
    "#### \n",
    "#### Instruções:\n",
    "```python\n",
    " - Crie duas variáveis, 'a' e 'b', e atribua valores inteiros a elas.\n",
    " - Calcule a soma de 'a' e 'b'.\n",
    " - Armazene o resultado em uma terceira variável chamada 'resultado_soma'.\n",
    "```\n",
    "#### \n"
   ]
  },
  {
   "cell_type": "markdown",
   "metadata": {},
   "source": [
    "## 2. Cálculo de área de um triângulo\n",
    "#### Objetivo: Calcular a área de um triângulo.\n",
    "####\n",
    "#### Instruções:\n",
    "```python\n",
    " - Crie variáveis para a base e altura de um triângulo.\n",
    " - Calcule a área usando a fórmula: área = (base * altura) / 2\n",
    " - Armazene o resultado em uma variável chamada 'area_triangulo'.\n",
    "```\n",
    "#### \n"
   ]
  },
  {
   "cell_type": "code",
   "execution_count": null,
   "metadata": {},
   "outputs": [
    {
     "ename": "",
     "evalue": "",
     "output_type": "error",
     "traceback": [
      "\u001b[1;31mA execução de células com 'Python 3.7.9' requer o pacote ipykernel.\n",
      "\u001b[1;31mExecute o seguinte comando para instalar \"ipykernel\" no ambiente do Python. \n",
      "\u001b[1;31mComando: \"c:/Users/visao/AppData/Local/Programs/Python/Python37/python.exe -m pip install ipykernel -U --user --force-reinstall\""
     ]
    }
   ],
   "source": [
    "a = 6\n",
    "b = 2\n",
    "\n",
    "calc  = (a * b) / 2"
   ]
  },
  {
   "cell_type": "markdown",
   "metadata": {},
   "source": [
    "## 3. Conversão de temperatura\n",
    "#### Objetivo: Converter temperatura de Celsius para Fahrenheit.\n",
    "####\n",
    "#### Instruções:\n",
    "```python\n",
    " - Crie uma variável 'temp_celsius' e atribua um valor a ela.\n",
    " - Converta a temperatura para Fahrenheit usando a fórmula: F = (C * 9/5) + 32\n",
    " - Armazene o resultado em 'temp_fahrenheit'.\n",
    "```\n",
    "#### \n"
   ]
  },
  {
   "cell_type": "markdown",
   "metadata": {},
   "source": [
    "## 4. Cálculo de juros compostos\n",
    "#### Objetivo: Calcular o montante final de um investimento com juros compostos.\n",
    "####\n",
    "#### Instruções:\n",
    "```python\n",
    " - Crie variáveis para:\n",
    "   - Principal (P)\n",
    "   - Taxa de juros anual (r)\n",
    "   - Tempo em anos (t)\n",
    "   - Número de vezes que os juros são compostos por ano (n)\n",
    " - Calcule o montante final usando a fórmula: A = P * (1 + r/n)**(n*t)\n",
    " - Armazene o resultado em 'montante_final'.\n",
    " ````\n"
   ]
  },
  {
   "cell_type": "markdown",
   "metadata": {},
   "source": [
    "\n",
    "\n",
    "## 5. Expressão aritmética complexa\n",
    "#### Objetivo: Resolver uma expressão aritmética complexa.\n",
    "####\n",
    "#### Instruções:\n",
    "```python\n",
    " - Crie variáveis x, y e z com valores diferentes.\n",
    " - Calcule o resultado da seguinte expressão:\n",
    "   resultado = (x**2 + y**3) / (z + 1) - (x * y) % z\n",
    " - Armazene o resultado em 'resultado_complexo'.\n",
    " ```\n",
    "\n"
   ]
  },
  {
   "cell_type": "markdown",
   "metadata": {},
   "source": []
  },
  {
   "cell_type": "markdown",
   "metadata": {},
   "source": [
    "### Listas em Python\n",
    "\n",
    "As listas são uma estrutura de dados fundamental em Python que permite armazenar uma coleção ordenada de itens. Esses itens podem ser de qualquer tipo, incluindo números, strings e até outras listas. As listas são mutáveis, o que significa que você pode alterar seus elementos após a criação.\n",
    "\n",
    "#### Como criar uma lista\n",
    "\n",
    "Você pode criar uma lista usando colchetes `[]` e separando os elementos por vírgulas.\n",
    "\n"
   ]
  },
  {
   "cell_type": "code",
   "execution_count": 6,
   "metadata": {},
   "outputs": [],
   "source": [
    "# Criando uma lista de números\n",
    "numeros = [1, 2, 3, 4, 5]\n",
    "\n",
    "# Criando uma lista de strings\n",
    "frutas = [\"maçã\", \"banana\", \"cereja\"]\n",
    "\n",
    "# Criando uma lista mista\n",
    "mista = [1, \"maçã\", 3.14, True]"
   ]
  },
  {
   "cell_type": "markdown",
   "metadata": {},
   "source": [
    "\n",
    "\n",
    "#### Acessando elementos da lista\n",
    "\n",
    "Você pode acessar elementos individuais de uma lista usando índices. Lembre-se de que os índices em Python começam em 0.\n",
    "\n"
   ]
  },
  {
   "cell_type": "code",
   "execution_count": 7,
   "metadata": {},
   "outputs": [],
   "source": [
    "# Acessando o primeiro elemento\n",
    "primeiro = numeros[0]  # 1\n",
    "\n",
    "# Acessando o último elemento\n",
    "ultimo = frutas[-1]  # \"cereja\""
   ]
  },
  {
   "cell_type": "markdown",
   "metadata": {},
   "source": [
    "\n",
    "\n",
    "#### Modificando elementos da lista\n",
    "\n",
    "Como as listas são mutáveis, você pode alterar seus elementos diretamente.\n",
    "\n"
   ]
  },
  {
   "cell_type": "code",
   "execution_count": 8,
   "metadata": {},
   "outputs": [],
   "source": [
    "# Alterando o segundo elemento\n",
    "numeros[1] = 20  # [1, 20, 3, 4, 5]"
   ]
  },
  {
   "cell_type": "markdown",
   "metadata": {},
   "source": [
    "\n",
    "\n",
    "#### Adicionando e removendo elementos\n",
    "\n",
    "Você pode adicionar elementos a uma lista usando os métodos `append()` e `insert()`, e remover elementos usando `remove()` e `pop()`.\n",
    "\n"
   ]
  },
  {
   "cell_type": "code",
   "execution_count": 9,
   "metadata": {},
   "outputs": [],
   "source": [
    "# Adicionando um elemento ao final da lista\n",
    "numeros.append(6)  # [1, 20, 3, 4, 5, 6]\n",
    "\n",
    "# Inserindo um elemento em uma posição específica\n",
    "numeros.insert(1, 10)  # [1, 10, 20, 3, 4, 5, 6]\n",
    "\n",
    "# Removendo um elemento específico\n",
    "numeros.remove(10)  # [1, 20, 3, 4, 5, 6]\n",
    "\n",
    "# Removendo o último elemento\n",
    "ultimo = numeros.pop()  # 6, [1, 20, 3, 4, 5]"
   ]
  },
  {
   "cell_type": "markdown",
   "metadata": {},
   "source": [
    "\n",
    "\n",
    "#### Iterando sobre uma lista\n",
    "\n",
    "Você pode usar um loop `for` para iterar sobre os elementos de uma lista.\n",
    "\n"
   ]
  },
  {
   "cell_type": "code",
   "execution_count": null,
   "metadata": {},
   "outputs": [],
   "source": [
    "# Iterando sobre uma lista de frutas\n",
    "for fruta in frutas:\n",
    "    print(fruta)"
   ]
  },
  {
   "cell_type": "markdown",
   "metadata": {},
   "source": [
    "\n",
    "\n",
    "#### Exemplos de uso\n",
    "\n",
    "Aqui estão alguns exemplos práticos de como você pode usar listas em Python:\n",
    "\n"
   ]
  },
  {
   "cell_type": "code",
   "execution_count": null,
   "metadata": {},
   "outputs": [],
   "source": [
    "# Exemplo 1: Somando todos os números em uma lista\n",
    "numeros = [1, 2, 3, 4, 5]\n",
    "\n",
    "soma = sum(numeros)\n",
    "print(soma)  # 15\n",
    "\n",
    "# Exemplo 2: Filtrando elementos de uma lista\n",
    "numeros = [1, 2, 3, 4, 5, 6, 7, 8, 9, 10]\n",
    "pares = [num for num in numeros if num % 2 == 0]\n",
    "print(pares)  # [2, 4, 6, 8, 10]\n",
    "\n",
    "# Exemplo 3: Ordenando uma lista\n",
    "frutas = [\"banana\", \"maçã\", \"cereja\"]\n",
    "frutas.sort()\n",
    "print(frutas)  # ['banana', 'cereja', 'maçã']\n",
    "\n",
    "# Exemplo 4: Criando uma lista com 6 frutas\n",
    "frutas = [\"banana\", \"maçã\", \"cereja\", \"laranja\", \"uva\", \"abacaxi\"]\n",
    "print(frutas)  # ['banana', 'maçã', 'cereja', 'laranja', 'uva', 'abacaxi']"
   ]
  },
  {
   "cell_type": "code",
   "execution_count": null,
   "metadata": {},
   "outputs": [],
   "source": [
    "# Exemplo 1: Somando todos os números em uma lista\n",
    "numeros = [1, 2, 3, 4, 5]\n",
    "soma = sum(numeros)\n",
    "print(soma)  # 15\n",
    "\n",
    "# Exemplo 2: Filtrando elementos de uma lista\n",
    "numeros = [1, 2, 3, 4, 5, 6, 7, 8, 9, 10]\n",
    "pares = [num for num in numeros if num % 2 == 0]\n",
    "print(pares)  # [2, 4, 6, 8, 10]\n",
    "\n",
    "# Exemplo 3: Ordenando uma lista\n",
    "frutas = [\"banana\", \"maçã\", \"cereja\"]\n",
    "frutas.sort()\n",
    "print(frutas)  # ['banana', 'cereja', 'maçã']\n",
    "\n",
    "# Exemplo 4: Criando uma lista com 6 frutas\n",
    "frutas = [\"banana\", \"maçã\", \"cereja\", \"laranja\", \"uva\", \"abacaxi\"]\n",
    "print(frutas)  # ['banana', 'maçã', 'cereja', 'laranja', 'uva', 'abacaxi']"
   ]
  },
  {
   "cell_type": "markdown",
   "metadata": {},
   "source": [
    "\n",
    "\n",
    "As listas são uma ferramenta poderosa e versátil em Python, permitindo que você trabalhe com coleções de dados de maneira eficiente e intuitiva."
   ]
  }
 ],
 "metadata": {
  "kernelspec": {
   "display_name": "Python 3",
   "language": "python",
   "name": "python3"
  },
  "language_info": {
   "codemirror_mode": {
    "name": "ipython",
    "version": 3
   },
   "file_extension": ".py",
   "mimetype": "text/x-python",
   "name": "python",
   "nbconvert_exporter": "python",
   "pygments_lexer": "ipython3",
   "version": "3.7.9"
  }
 },
 "nbformat": 4,
 "nbformat_minor": 2
}
